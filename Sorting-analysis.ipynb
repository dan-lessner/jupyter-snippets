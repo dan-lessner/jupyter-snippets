{
  "cells": [
    {
      "cell_type": "markdown",
      "metadata": {
        "id": "40kOd7AqNmrQ"
      },
      "source": [
        "# Efficient sorting"
      ]
    },
    {
      "cell_type": "markdown",
      "metadata": {
        "id": "TuDhfdhGN4nW"
      },
      "source": [
        "Remember sorting? We know lists now. We can implement the algorithms, and actually measure their performace, instead of doing it by hand.\n",
        ":-)"
      ]
    },
    {
      "cell_type": "code",
      "execution_count": 2,
      "metadata": {
        "id": "EyXaBl2oNoH5"
      },
      "outputs": [],
      "source": [
        "def bubble_sort(arr):\n",
        "    \"\"\"\n",
        "    Sorts an array using the Bubble Sort algorithm and counts comparisons.\n",
        "    :param arr: List of elements to be sorted\n",
        "    :return: Tuple containing sorted list and total comparisons count\n",
        "    \"\"\"\n",
        "    n = len(arr)\n",
        "    comparisons = 0  # Initialize comparison counter\n",
        "\n",
        "    for i in range(n - 1):\n",
        "        swapped = False  # Track if any swaps occurred\n",
        "        for j in range(n - 1 - i):\n",
        "            if arr[j] > arr[j + 1]:\n",
        "                arr[j], arr[j + 1] = arr[j + 1], arr[j]  # Swap elements\n",
        "                swapped = True\n",
        "                print (arr)\n",
        "\n",
        "        if not swapped:  # If no swaps occurred, array is already sorted\n",
        "            break\n",
        "\n",
        "    return arr"
      ]
    },
    {
      "cell_type": "code",
      "execution_count": 3,
      "metadata": {
        "id": "SgGPrNglPuas"
      },
      "outputs": [],
      "source": [
        "def quick_sort(arr):\n",
        "    \"\"\"\n",
        "    Sort an array using the Quick Sort algorithm in a simple and readable way.\n",
        "\n",
        "    :param arr: List of elements to be sorted\n",
        "    :return: Sorted list\n",
        "    \"\"\"\n",
        "    if len(arr) <= 1:\n",
        "        return arr  # Base case: A list with 0 or 1 element is already sorted\n",
        "\n",
        "    pivot = arr[len(arr) // 2]  # Choose the middle element as the pivot\n",
        "    left = []  # Elements less than pivot\n",
        "    middle = []  # Elements equal to pivot\n",
        "    right = []  # Elements greater than pivot\n",
        "\n",
        "    for x in arr:\n",
        "        if x < pivot:\n",
        "            left.append(x)\n",
        "        elif x == pivot:\n",
        "            middle.append(x)\n",
        "        else:\n",
        "            right.append(x)\n",
        "\n",
        "    return quick_sort(left) + middle + quick_sort(right)  # Recursively sort and combine"
      ]
    },
    {
      "cell_type": "markdown",
      "metadata": {
        "id": "XzrWBy4EN30T"
      },
      "source": [
        "Test the sorting functions:"
      ]
    },
    {
      "cell_type": "code",
      "execution_count": 5,
      "metadata": {
        "colab": {
          "base_uri": "https://localhost:8080/"
        },
        "id": "8fNzZPd_P2RD",
        "outputId": "29567d3d-5ac6-48e6-8a8a-89679f0abd1d"
      },
      "outputs": [
        {
          "name": "stdout",
          "output_type": "stream",
          "text": [
            "Unsorted List: [10, 7, 8, 9, 1, 5]\n",
            "[7, 10, 8, 9, 1, 5]\n",
            "[7, 8, 10, 9, 1, 5]\n",
            "[7, 8, 9, 10, 1, 5]\n",
            "[7, 8, 9, 1, 10, 5]\n",
            "[7, 8, 9, 1, 5, 10]\n",
            "[7, 8, 1, 9, 5, 10]\n",
            "[7, 8, 1, 5, 9, 10]\n",
            "[7, 1, 8, 5, 9, 10]\n",
            "[7, 1, 5, 8, 9, 10]\n",
            "[1, 7, 5, 8, 9, 10]\n",
            "[1, 5, 7, 8, 9, 10]\n",
            "BS: [1, 5, 7, 8, 9, 10]\n",
            "QS: [1, 5, 7, 8, 9, 10]\n"
          ]
        }
      ],
      "source": [
        "unsorted_list = [10, 7, 8, 9, 1, 5]\n",
        "print(\"Unsorted List:\", unsorted_list)\n",
        "print(\"BS:\", bubble_sort(unsorted_list))\n",
        "print(\"QS:\", quick_sort(unsorted_list))"
      ]
    },
    {
      "cell_type": "markdown",
      "metadata": {
        "id": "hEtCQNs3QN8N"
      },
      "source": [
        "What are the steps needed to find out which program sorts better?\n",
        "We would also like to see how much better is one or the other, especially for large inputs (long lists). Illustrate it using a chart."
      ]
    }
  ],
  "metadata": {
    "colab": {
      "provenance": []
    },
    "kernelspec": {
      "display_name": "Python 3",
      "name": "python3"
    },
    "language_info": {
      "name": "python"
    }
  },
  "nbformat": 4,
  "nbformat_minor": 0
}
