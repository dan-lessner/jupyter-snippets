{
  "nbformat": 4,
  "nbformat_minor": 0,
  "metadata": {
    "colab": {
      "provenance": []
    },
    "kernelspec": {
      "name": "python3",
      "display_name": "Python 3"
    },
    "language_info": {
      "name": "python"
    }
  },
  "cells": [
    {
      "cell_type": "markdown",
      "source": [
        "# Efficient sorting"
      ],
      "metadata": {
        "id": "40kOd7AqNmrQ"
      }
    },
    {
      "cell_type": "markdown",
      "source": [
        "Remember sorting? We know lists now. We can implement the algorithms, and actually measure their performace, instead of doing it by hand."
      ],
      "metadata": {
        "id": "TuDhfdhGN4nW"
      }
    },
    {
      "cell_type": "code",
      "source": [
        "def bubble_sort(arr):\n",
        "    \"\"\"\n",
        "    Sorts an array using the Bubble Sort algorithm and counts comparisons.\n",
        "    :param arr: List of elements to be sorted\n",
        "    :return: Tuple containing sorted list and total comparisons count\n",
        "    \"\"\"\n",
        "    n = len(arr)\n",
        "    comparisons = 0  # Initialize comparison counter\n",
        "\n",
        "    for i in range(n - 1):\n",
        "        swapped = False  # Track if any swaps occurred\n",
        "        for j in range(n - 1 - i):\n",
        "            if arr[j] > arr[j + 1]:\n",
        "                arr[j], arr[j + 1] = arr[j + 1], arr[j]  # Swap elements\n",
        "                swapped = True\n",
        "                print (arr)\n",
        "\n",
        "        if not swapped:  # If no swaps occurred, array is already sorted\n",
        "            break\n",
        "\n",
        "    return arr"
      ],
      "metadata": {
        "id": "EyXaBl2oNoH5"
      },
      "execution_count": 2,
      "outputs": []
    },
    {
      "cell_type": "code",
      "source": [
        "def quick_sort(arr):\n",
        "    \"\"\"\n",
        "    Sort an array using the Quick Sort algorithm in a simple and readable way.\n",
        "\n",
        "    :param arr: List of elements to be sorted\n",
        "    :return: Sorted list\n",
        "    \"\"\"\n",
        "    if len(arr) <= 1:\n",
        "        return arr  # Base case: A list with 0 or 1 element is already sorted\n",
        "\n",
        "    pivot = arr[len(arr) // 2]  # Choose the middle element as the pivot\n",
        "    left = []  # Elements less than pivot\n",
        "    middle = []  # Elements equal to pivot\n",
        "    right = []  # Elements greater than pivot\n",
        "\n",
        "    for x in arr:\n",
        "        if x < pivot:\n",
        "            left.append(x)\n",
        "        elif x == pivot:\n",
        "            middle.append(x)\n",
        "        else:\n",
        "            right.append(x)\n",
        "\n",
        "    return quick_sort(left) + middle + quick_sort(right)  # Recursively sort and combine"
      ],
      "metadata": {
        "id": "SgGPrNglPuas"
      },
      "execution_count": 3,
      "outputs": []
    },
    {
      "cell_type": "markdown",
      "source": [
        "Test the sorting functions:"
      ],
      "metadata": {
        "id": "XzrWBy4EN30T"
      }
    },
    {
      "cell_type": "code",
      "source": [
        "unsorted_list = [10, 7, 8, 9, 1, 5]\n",
        "print(\"Unsorted List:\", unsorted_list)\n",
        "print(\"BS:\", bubble_sort(unsorted_list))\n",
        "print(\"QS:\", quick_sort(unsorted_list))"
      ],
      "metadata": {
        "colab": {
          "base_uri": "https://localhost:8080/"
        },
        "id": "8fNzZPd_P2RD",
        "outputId": "29567d3d-5ac6-48e6-8a8a-89679f0abd1d"
      },
      "execution_count": 5,
      "outputs": [
        {
          "output_type": "stream",
          "name": "stdout",
          "text": [
            "Unsorted List: [10, 7, 8, 9, 1, 5]\n",
            "[7, 10, 8, 9, 1, 5]\n",
            "[7, 8, 10, 9, 1, 5]\n",
            "[7, 8, 9, 10, 1, 5]\n",
            "[7, 8, 9, 1, 10, 5]\n",
            "[7, 8, 9, 1, 5, 10]\n",
            "[7, 8, 1, 9, 5, 10]\n",
            "[7, 8, 1, 5, 9, 10]\n",
            "[7, 1, 8, 5, 9, 10]\n",
            "[7, 1, 5, 8, 9, 10]\n",
            "[1, 7, 5, 8, 9, 10]\n",
            "[1, 5, 7, 8, 9, 10]\n",
            "BS: [1, 5, 7, 8, 9, 10]\n",
            "QS: [1, 5, 7, 8, 9, 10]\n"
          ]
        }
      ]
    },
    {
      "cell_type": "markdown",
      "source": [
        "What are the steps needed to find out which program sorts better?\n",
        "We would also like to see how much better is one or the other, especially for large inputs (long lists). Illustrate it using a chart."
      ],
      "metadata": {
        "id": "hEtCQNs3QN8N"
      }
    }
  ]
}