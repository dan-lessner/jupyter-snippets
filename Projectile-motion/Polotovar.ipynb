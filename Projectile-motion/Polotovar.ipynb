{
  "cells": [
    {
      "cell_type": "markdown",
      "metadata": {
        "id": "JGL1oSiAS5As"
      },
      "source": [
        "# How do you say \"šikmý vrh\" in English?"
      ]
    },
    {
      "cell_type": "markdown",
      "metadata": {},
      "source": [
        "*Today we create a more serious sample project in Jupyter notebook. It will follow a vary basic workflow: take inputs, generate data, visualize the results, come to a conclusion. You may reuse the same pattern in the future for you lab works and such.*\n",
        "\n",
        "*This notebook contains partial structure and code for you to build on. Make it yours, change whatever you want, including the text (not only code!). Also explore the buttons around, e.g. the one for running multiple cells at a time.*\n",
        "\n",
        "Think back to physics (and sports) and throwing things.\n",
        "* What influences the trajectory?\n",
        "* What determines the final distance?\n",
        "* How do you determine the position of the thing, based on the previous position?\n",
        "\n",
        "Feel free to scribble a few figures!\n",
        "\n",
        "**The question: at what angle do I need to throw the thing, to make it fly the furthest?**"
      ]
    },
    {
      "cell_type": "markdown",
      "metadata": {},
      "source": [
        "## Preparations"
      ]
    },
    {
      "cell_type": "markdown",
      "metadata": {},
      "source": [
        "\n",
        "We need to model the whole process. What influences the flight? What parameter values do you need to know? What variables do you need to track all the relevant information about a flying object?Let's define them!"
      ]
    },
    {
      "cell_type": "code",
      "execution_count": 3,
      "metadata": {
        "id": "pOHbChp5UlUg",
        "trusted": true
      },
      "outputs": [],
      "source": [
        "G = 9.81  # Gravity\n",
        "\n",
        "v_0 = 50.0  # Initial velocity (m/s)\n",
        "angle = 75 # Angle (degrees)"
      ]
    },
    {
      "cell_type": "markdown",
      "metadata": {
        "id": "Kqb5QSdDUmOz"
      },
      "source": [
        "When in need, use the documentation. Or just try finding a page that contains your question and answer (it has been asked many times before!). Just make sure that the proposed solution is right.\n",
        "\n",
        "So, how do we calculate sines and cosines in Python? How could you find that out?"
      ]
    },
    {
      "cell_type": "markdown",
      "metadata": {
        "id": "nsIRpp8uVQ4d"
      },
      "source": [
        "Remember how to load new functions? Like we did for generating random dice numbers on micro:bit?"
      ]
    },
    {
      "cell_type": "code",
      "execution_count": 4,
      "metadata": {
        "id": "sSyqsIiAVfEF",
        "trusted": true
      },
      "outputs": [],
      "source": [
        "import math"
      ]
    },
    {
      "cell_type": "markdown",
      "metadata": {},
      "source": [
        "Now the formulas for the velocity components."
      ]
    },
    {
      "cell_type": "code",
      "execution_count": null,
      "metadata": {
        "id": "6q0h4A1nVQf-",
        "trusted": true
      },
      "outputs": [],
      "source": [
        "v_x = v_0 * math.cos(angle)\n",
        "v_y = v_0 * math.sin(angle)\n",
        "v_x, v_y    # no need to explicitly call print(), the last expression in a cell is printed"
      ]
    },
    {
      "cell_type": "markdown",
      "metadata": {
        "id": "fNBP-cK7VjKk"
      },
      "source": [
        "Check the results - do they match your expectations? Or should we change something?"
      ]
    },
    {
      "cell_type": "markdown",
      "metadata": {},
      "source": [
        "Go back and experiment with the code to find out what the problem is. Which part works well? Which is weird? Which values work, which do not? \n",
        "Do the functions do what you this the do? Use documentation! Did anyone run into a similar issue before? Search the web!"
      ]
    },
    {
      "cell_type": "markdown",
      "metadata": {},
      "source": [
        "## Simulation"
      ]
    },
    {
      "cell_type": "markdown",
      "metadata": {
        "id": "N5LerklrYqKx"
      },
      "source": [
        "Now finally, create the simulation. The new position of the object after one second is:"
      ]
    },
    {
      "cell_type": "code",
      "execution_count": null,
      "metadata": {},
      "outputs": [],
      "source": [
        "x = x + v_x\n",
        "y = y + v_y\n",
        "\n",
        "x, y"
      ]
    },
    {
      "cell_type": "markdown",
      "metadata": {},
      "source": [
        "We want to track the path of the object, so that later we can visualize it."
      ]
    },
    {
      "cell_type": "code",
      "execution_count": null,
      "metadata": {},
      "outputs": [],
      "source": [
        "trajectory_x = []\n",
        "trajectory_y = []\n",
        "trajectory_x.append(x)\n",
        "trajectory_y.append(y)"
      ]
    },
    {
      "cell_type": "markdown",
      "metadata": {},
      "source": [
        "Ok, but there will be plenty of steps like this. We need a loop to recalculate the new situation after each simulated second."
      ]
    },
    {
      "cell_type": "code",
      "execution_count": null,
      "metadata": {
        "id": "JUpM47IX-EQP",
        "trusted": true
      },
      "outputs": [],
      "source": [
        "while y ..... how do we determine whether the thing still flies or is on the ground already?\n",
        "    x = x + v_x\n",
        "    y = y + v_y\n",
        "    print(x, y)   # you can remove this line (or turn it into a comment) after you make sure that the calculacions are correct\n",
        "    trajectory_x.append(x)\n",
        "    trajectory_y.append(y)\n",
        "    # what else needs to change every time?"
      ]
    },
    {
      "cell_type": "markdown",
      "metadata": {
        "id": "W_64SUTBWmxs"
      },
      "source": [
        "We have the list of coordinates (have them printed if you want to see how that looks like!)."
      ]
    },
    {
      "cell_type": "code",
      "execution_count": null,
      "metadata": {
        "id": "EIUpVc1VWuWY",
        "trusted": true
      },
      "outputs": [],
      "source": [
        "import matplotlib.pyplot as plt\n",
        "\n",
        "plt.figure(figsize=(8, 5))  # Create a new plot\n",
        "plt.plot(trajectory_x, trajectory_y)  # Plot the flight path\n",
        "plt.show()  # Show the plot"
      ]
    },
    {
      "cell_type": "markdown",
      "metadata": {
        "id": "9vLW92sVW8B4"
      },
      "source": [
        "Look at the chart and find out possibilities to vyňuňat it. And do it. Labels, grids, colors..."
      ]
    },
    {
      "cell_type": "markdown",
      "metadata": {},
      "source": [
        "\n",
        "## What next?"
      ]
    },
    {
      "cell_type": "markdown",
      "metadata": {},
      "source": [
        "You should have a working simulation now. You can tweak the parameters, run the cells, and read out the range of your throw. Was it the best angle? Would another one yield a longer throw? You need to find out!\n",
        "Edit the notebook however you want to.\n",
        "\n",
        "You can introduce plenty of improvements and variants:\n",
        "* **The plot.** That is probably the most important. You need to make it not only fancy, but actually helpful to find the bes angle.\n",
        "* **The code.** Manual trial and errors will eventually become tedious. How could you restructure the code, and automate most of the work?\n",
        "* **The model.** Some of our assumptions might be unrealistic.\n",
        "* **Deeper research.** You could ask more questions. How does the optimal angle change if you throw say from a tower? What if you are on a different planet? What if there is wind?"
      ]
    }
  ],
  "metadata": {
    "colab": {
      "provenance": []
    },
    "kernelspec": {
      "display_name": "Python 3",
      "language": "python",
      "name": "python3"
    },
    "language_info": {
      "codemirror_mode": {
        "name": "ipython",
        "version": 3
      },
      "file_extension": ".py",
      "mimetype": "text/x-python",
      "name": "python",
      "nbconvert_exporter": "python",
      "pygments_lexer": "ipython3",
      "version": "3.10.11"
    }
  },
  "nbformat": 4,
  "nbformat_minor": 4
}
