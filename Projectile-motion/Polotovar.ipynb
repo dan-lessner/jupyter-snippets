{
  "metadata": {
    "kernelspec": {
      "name": "python",
      "display_name": "Python (Pyodide)",
      "language": "python"
    },
    "language_info": {
      "codemirror_mode": {
        "name": "python",
        "version": 3
      },
      "file_extension": ".py",
      "mimetype": "text/x-python",
      "name": "python",
      "nbconvert_exporter": "python",
      "pygments_lexer": "ipython3",
      "version": "3.8"
    },
    "colab": {
      "provenance": []
    }
  },
  "nbformat_minor": 4,
  "nbformat": 4,
  "cells": [
    {
      "cell_type": "markdown",
      "source": "# How do you say \"šikmý vrh\" in English?\n\nToday we create a more serious sample project in Jupyter notebook. It will follow a vary basic workflow: take inputs, generate data, visualize the results, come to a conclusion. You may reuse the same pattern in the future for you lab works and such.\n\nThink back to physics (and sports) and throwing things.\n* What influences the trajectory?\n* What determines the final distance?\n* How do you determine the position of the thing, based on the previous position?\n\nFeel free to scribble a few figures!\n\n## The question: at what angle do I need to throw the thing, to make it fly the furthest?\n\nWe need to model the whole process. What are the key variables? Let' define them!",
      "metadata": {
        "id": "JGL1oSiAS5As"
      }
    },
    {
      "cell_type": "code",
      "source": "import math\n\nG = 9.81  # Gravity\nv0 = 50.0  # Initial velocity (m/s)\nangle = math.radians(75) # Degrees\n# what else?\n\n# starting point\nx, y = 0, 0",
      "metadata": {
        "id": "pOHbChp5UlUg",
        "trusted": true
      },
      "outputs": [],
      "execution_count": 9
    },
    {
      "cell_type": "markdown",
      "source": "When in need, use the documentation. Or just try finding a page that contains your question and answer (it has been asked many times before!). So, how do we calculate sines and cosines in Python?",
      "metadata": {
        "id": "Kqb5QSdDUmOz"
      }
    },
    {
      "cell_type": "markdown",
      "source": "Remember how to load new functions?",
      "metadata": {
        "id": "nsIRpp8uVQ4d"
      }
    },
    {
      "cell_type": "code",
      "source": "",
      "metadata": {
        "id": "sSyqsIiAVfEF",
        "trusted": true
      },
      "outputs": [],
      "execution_count": null
    },
    {
      "cell_type": "code",
      "source": "vx = v0 * math.cos(angle)\nvy = v0 * math.cos(math.pi/2-angle)\n\nprint(vx,vy)",
      "metadata": {
        "id": "6q0h4A1nVQf-",
        "trusted": true
      },
      "outputs": [
        {
          "name": "stdout",
          "output_type": "stream",
          "text": "12.940952255126037 48.29629131445341 48.29629131445341\n"
        }
      ],
      "execution_count": 10
    },
    {
      "cell_type": "markdown",
      "source": "Check the partial results - do they match your expectations? Or should we change something?",
      "metadata": {
        "id": "fNBP-cK7VjKk"
      }
    },
    {
      "cell_type": "code",
      "source": "",
      "metadata": {
        "id": "niXi9VI0V5AL"
      },
      "outputs": [],
      "execution_count": null
    },
    {
      "cell_type": "markdown",
      "source": "What else do we need to keep track of (and record) the position of the Thing?",
      "metadata": {
        "id": "jcSb78trV99x"
      }
    },
    {
      "cell_type": "code",
      "source": "",
      "metadata": {
        "id": "LQuqqNNiWcB5"
      },
      "outputs": [],
      "execution_count": 9
    },
    {
      "cell_type": "markdown",
      "source": "Now finally, run the simulation. Proceed step-wise in a loop. In each step you calculate the new position (and possibly some other quantities).",
      "metadata": {
        "id": "N5LerklrYqKx"
      }
    },
    {
      "cell_type": "code",
      "source": "trajectory_x = []\ntrajectory_y = []\n\nfor i in range(12):\n    x = x + vx\n    y = y + vy\n    trajectory_x.append(x)\n    trajectory_y.append(y)\n\nprint (trajectory_x, trajectory_y)\n",
      "metadata": {
        "id": "JUpM47IX-EQP",
        "trusted": true
      },
      "outputs": [
        {
          "name": "stdout",
          "output_type": "stream",
          "text": "[12.940952255126037, 25.881904510252074, 38.82285676537811, 51.76380902050415, 64.70476127563019, 77.64571353075623, 90.58666578588226, 103.5276180410083, 116.46857029613433, 129.40952255126038, 142.35047480638642, 155.29142706151245] [48.29629131445341, 96.59258262890683, 144.88887394336024, 193.18516525781365, 241.48145657226706, 289.7777478867205, 338.0740392011739, 386.3703305156273, 434.6666218300807, 482.9629131445341, 531.2592044589876, 579.555495773441]\n"
        }
      ],
      "execution_count": 11
    },
    {
      "cell_type": "markdown",
      "source": "We have the list of coordinates. Now the grand finale: we plot it.",
      "metadata": {
        "id": "W_64SUTBWmxs"
      }
    },
    {
      "cell_type": "code",
      "source": "import matplotlib.pyplot as plt\n\nplt.figure(figsize=(8, 5))\nplt.plot(trajectory_x, trajectory_y, label=\"Trajectory\")\nplt.show()",
      "metadata": {
        "id": "EIUpVc1VWuWY",
        "trusted": true
      },
      "outputs": [
        {
          "name": "stderr",
          "output_type": "stream",
          "text": "Matplotlib is building the font cache; this may take a moment.\n"
        },
        {
          "output_type": "display_data",
          "data": {
            "text/plain": "<Figure size 800x500 with 1 Axes>",
            "image/png": "[encoded data removed]"
          },
          "metadata": {}
        }
      ],
      "execution_count": 12
    },
    {
      "cell_type": "markdown",
      "source": "Find out possibilities to vyňuňat the chart. And do it. Labels, grids, colors...\n\n**And finally, edit the notebook however you need to find out the answer to the original question.**\n\nPossible modification: we do not shoot on the ground, but from a tower of some height.",
      "metadata": {
        "id": "9vLW92sVW8B4"
      }
    }
  ]
}