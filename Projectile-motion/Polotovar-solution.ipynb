{
  "cells": [
    {
      "cell_type": "markdown",
      "metadata": {
        "id": "JGL1oSiAS5As"
      },
      "source": [
        "# How do you say \"šikmý vrh\" in English?"
      ]
    },
    {
      "cell_type": "markdown",
      "metadata": {},
      "source": [
        "*This is a possible solution to the initial setting. Nothing too fancy, no excessive effort.*\n",
        "\n",
        "**The question: at what angle do I need to throw the thing, to make it fly the furthest?**"
      ]
    },
    {
      "cell_type": "markdown",
      "metadata": {},
      "source": [
        "## Preparations"
      ]
    },
    {
      "cell_type": "markdown",
      "metadata": {},
      "source": [
        "We need to model the whole process. To be able to use our physics and to keep things simple, we assume the thing actually is a **MASSIVE** point.\n",
        "The position is determined by the $x$ and $y$ coordinates in the standard caresian plane.\n",
        "There is an initial velocity $v_0$ and the angle, they determine the horizontal and vertical velocity vectors.\n",
        "The vertical velocity is changed by gravity."
      ]
    },
    {
      "cell_type": "code",
      "execution_count": null,
      "metadata": {
        "id": "pOHbChp5UlUg",
        "trusted": true
      },
      "outputs": [],
      "source": [
        "import math\n",
        "\n",
        "x, y = 0, 0  # Initial position (m)\n",
        "\n",
        "v_0 = 50.0  # Initial velocity (m/s)\n",
        "angle = 75 # Angle (degrees)\n",
        "\n",
        "v_x = v_0 * math.cos(math.radians(angle))\n",
        "v_y = v_0 * math.sin(math.radians(angle))\n",
        "\n",
        "G = 9.81  # Gravity"
      ]
    },
    {
      "cell_type": "markdown",
      "metadata": {},
      "source": [
        "## Simulation"
      ]
    },
    {
      "cell_type": "markdown",
      "metadata": {
        "id": "N5LerklrYqKx"
      },
      "source": [
        "Now finally, create the simulation. We calculate and store the object position after every second, until it hits the ground."
      ]
    },
    {
      "cell_type": "code",
      "execution_count": null,
      "metadata": {
        "id": "JUpM47IX-EQP",
        "trusted": true
      },
      "outputs": [],
      "source": [
        "trajectory_x = []\n",
        "trajectory_y = []\n",
        "\n",
        "while y >= 0 :\n",
        "    trajectory_x.append(x)\n",
        "    trajectory_y.append(y)\n",
        "    x = x + v_x\n",
        "    y = y + v_y\n",
        "    v_y = v_y - G\n",
        "# saving tha last position too (already below ground, y < 0)\n",
        "trajectory_x.append(x)\n",
        "trajectory_y.append(y)    \n",
        "   "
      ]
    },
    {
      "cell_type": "markdown",
      "metadata": {},
      "source": [
        "## Visualization"
      ]
    },
    {
      "cell_type": "code",
      "execution_count": null,
      "metadata": {
        "id": "EIUpVc1VWuWY",
        "trusted": true
      },
      "outputs": [],
      "source": [
        "import matplotlib.pyplot as plt\n",
        "\n",
        "plt.figure(figsize=(8, 5))  # Create a new plot\n",
        "plt.plot(trajectory_x, trajectory_y, label=str(angle)+\"°\")  # Plot the flight path\n",
        "plt.title(\"Projectile motion trajectory\")  # Set title\n",
        "plt.xlabel(\"Distance [m]\")  # Set x-axis label\n",
        "plt.ylabel(\"Height [m]\")  # Set y-axis label\n",
        "plt.grid(axis='y')  # Add grid lines only along the x-axis\n",
        "plt.legend()  # Show legend\n",
        "\n",
        "plt.show()  # Show the plot"
      ]
    },
    {
      "cell_type": "markdown",
      "metadata": {},
      "source": [
        "We could use a more detailed view."
      ]
    },
    {
      "cell_type": "code",
      "execution_count": null,
      "metadata": {},
      "outputs": [],
      "source": [
        "plt.figure(figsize=(8, 5))  # Create a new plot\n",
        "plt.plot(trajectory_x[-3:], trajectory_y[-3:], label=str(angle)+\"°\")  # Plot the flight path\n",
        "plt.title(\"Projectile motion - landing spot\")  # Set title\n",
        "plt.xlabel(\"Distance [m]\")  # Set x-axis label\n",
        "plt.ylabel(\"Height [m]\")  # Set y-axis label\n",
        "plt.grid(axis='y')  # Add grid lines only along the x-axis\n",
        "plt.legend()  # Show legend\n",
        "\n",
        "plt.show()  # Show the plot"
      ]
    },
    {
      "cell_type": "markdown",
      "metadata": {},
      "source": [
        "The code works. The only thing missing now is trying different nagles to find the best one."
      ]
    }
  ],
  "metadata": {
    "colab": {
      "provenance": []
    },
    "kernelspec": {
      "display_name": "Python 3",
      "language": "python",
      "name": "python3"
    },
    "language_info": {
      "codemirror_mode": {
        "name": "ipython",
        "version": 3
      },
      "file_extension": ".py",
      "mimetype": "text/x-python",
      "name": "python",
      "nbconvert_exporter": "python",
      "pygments_lexer": "ipython3",
      "version": "3.10.11"
    }
  },
  "nbformat": 4,
  "nbformat_minor": 4
}
