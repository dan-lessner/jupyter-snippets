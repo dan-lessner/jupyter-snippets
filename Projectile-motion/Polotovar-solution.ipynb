{
  "cells": [
    {
      "cell_type": "markdown",
      "metadata": {
        "id": "JGL1oSiAS5As"
      },
      "source": [
        "# How do you say \"šikmý vrh\" in English?"
      ]
    },
    {
      "cell_type": "markdown",
      "metadata": {},
      "source": [
        "*This is a possible solution to the initial setting. Nothing too fancy, no excessive effort.*\n",
        "\n",
        "**The question: at what angle do I need to throw the thing, to make it fly the furthest?**"
      ]
    },
    {
      "cell_type": "markdown",
      "metadata": {},
      "source": [
        "## Preparations"
      ]
    },
    {
      "cell_type": "markdown",
      "metadata": {},
      "source": [
        "We need to model the whole process. To be able to use our physics and to keep things simple, we assume the thing actually is a **MASSIVE** point.\n",
        "The position is determined by the $x$ and $y$ coordinates in the standard caresian plane.\n",
        "There is an initial velocity $v_0$ and the angle, they determine the horizontal and vertical velocity vectors.\n",
        "The vertical velocity is changed by gravity."
      ]
    },
    {
      "cell_type": "code",
      "execution_count": null,
      "metadata": {
        "id": "pOHbChp5UlUg",
        "trusted": true
      },
      "outputs": [],
      "source": [
        "import math\n",
        "\n",
        "x, y = 0, 0  # Initial position (m)\n",
        "\n",
        "v_0 = 50.0  # Initial velocity (m/s)\n",
        "angle = math.radians(75) # Angle (degrees, converted to radians)\n",
        "\n",
        "v_x = v_0 * math.cos(angle)\n",
        "v_y = v_0 * math.sin(angle)\n",
        "\n",
        "G = 9.81  # Gravity"
      ]
    },
    {
      "cell_type": "markdown",
      "metadata": {},
      "source": [
        "## Simulation"
      ]
    },
    {
      "cell_type": "markdown",
      "metadata": {
        "id": "N5LerklrYqKx"
      },
      "source": [
        "Now finally, create the simulation. The new position of the object after one second is:"
      ]
    },
    {
      "cell_type": "code",
      "execution_count": null,
      "metadata": {},
      "outputs": [],
      "source": [
        "x = x + v_x\n",
        "y = y + v_y"
      ]
    },
    {
      "cell_type": "markdown",
      "metadata": {},
      "source": [
        "We want to track the path of the object, so that later we can visualize it."
      ]
    },
    {
      "cell_type": "code",
      "execution_count": null,
      "metadata": {},
      "outputs": [],
      "source": [
        "trajectory_x = []\n",
        "trajectory_y = []\n",
        "trajectory_x.append(x)\n",
        "trajectory_y.append(y)"
      ]
    },
    {
      "cell_type": "markdown",
      "metadata": {},
      "source": [
        "Ok, but there will be plenty of steps like this. We need a loop to recalculate the new situation after each simulated second."
      ]
    },
    {
      "cell_type": "code",
      "execution_count": null,
      "metadata": {
        "id": "JUpM47IX-EQP",
        "trusted": true
      },
      "outputs": [],
      "source": [
        "while y ..... how do we determine whether the thing still flies or is on the ground already?\n",
        "    x = x + v_x\n",
        "    y = y + v_y\n",
        "    trajectory_x.append(x)\n",
        "    trajectory_y.append(y)\n",
        "    # what else needs to change every time?"
      ]
    },
    {
      "cell_type": "markdown",
      "metadata": {
        "id": "W_64SUTBWmxs"
      },
      "source": [
        "We have the list of coordinates (have them printed if you want to see how that looks like!)."
      ]
    },
    {
      "cell_type": "markdown",
      "metadata": {},
      "source": [
        "## Visualization"
      ]
    },
    {
      "cell_type": "markdown",
      "metadata": {},
      "source": [
        "Now the grand finale: we plot it."
      ]
    },
    {
      "cell_type": "code",
      "execution_count": null,
      "metadata": {
        "id": "EIUpVc1VWuWY",
        "trusted": true
      },
      "outputs": [],
      "source": [
        "import matplotlib.pyplot as plt\n",
        "\n",
        "plt.figure(figsize=(8, 5))  # Create a new plot\n",
        "plt.plot(trajectory_x, trajectory_y)  # Plot the flight path\n",
        "plt.show()  # Show the plot"
      ]
    },
    {
      "cell_type": "markdown",
      "metadata": {
        "id": "9vLW92sVW8B4"
      },
      "source": [
        "Look at the chart and find out possibilities to vyňuňat it. And do it. Labels, grids, colors..."
      ]
    }
  ],
  "metadata": {
    "colab": {
      "provenance": []
    },
    "kernelspec": {
      "display_name": "Python 3",
      "language": "python",
      "name": "python3"
    },
    "language_info": {
      "codemirror_mode": {
        "name": "ipython",
        "version": 3
      },
      "file_extension": ".py",
      "mimetype": "text/x-python",
      "name": "python",
      "nbconvert_exporter": "python",
      "pygments_lexer": "ipython3",
      "version": "3.10.11"
    }
  },
  "nbformat": 4,
  "nbformat_minor": 4
}
