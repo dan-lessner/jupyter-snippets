{
  "cells": [
    {
      "cell_type": "markdown",
      "metadata": {
        "id": "JGL1oSiAS5As"
      },
      "source": [
        "# Projectile motion\n",
        "\n",
        "*This is the next evolutionary step. It allows user interaction without directly editing code. The code is reorganized, as it does not provide a guidence through a solution process anymore, and facilitates experimenting with values of parameters instead.*"
      ]
    },
    {
      "cell_type": "markdown",
      "metadata": {
        "id": "bPh2BF0fz0jq"
      },
      "source": [
        "## The question\n",
        "We are trying to throw an object as far as possible. What is the optimal angle?"
      ]
    },
    {
      "cell_type": "markdown",
      "metadata": {},
      "source": [
        "## Preparations"
      ]
    },
    {
      "cell_type": "markdown",
      "metadata": {},
      "source": [
        "*You can collapse this section.*"
      ]
    },
    {
      "cell_type": "code",
      "execution_count": 8,
      "metadata": {},
      "outputs": [],
      "source": [
        "# from ipywidgets import interact, interactive, fixed, interact_manual\n",
        "# import ipywidgets as widgets\n",
        "import numpy as np\n",
        "import math\n",
        "import matplotlib.pyplot as plt\n",
        "\n",
        "def sim(angle_degrees):\n",
        "    x = 0\n",
        "    y = y_0\n",
        "    angle = math.radians(angle_degrees)  # Convert angle from degrees to radians\n",
        "    v_x = v_0 * math.cos(angle)  # Horizontal velocity\n",
        "    v_y = v_0 * math.cos(math.pi/2 - angle)  # Vertical velocity\n",
        "    trajectory_x = []  # Lists to store positions\n",
        "    trajectory_y = []\n",
        "\n",
        "    while y >= 0:  # Loop to calculate motion as long as the object flies\n",
        "        trajectory_x.append(x)  # Store position\n",
        "        trajectory_y.append(y)\n",
        "        x += v_x * dt  # Update position based on horizontal velocity\n",
        "        y += v_y * dt\n",
        "        v_y += G * dt  # Update vertical velocity based on gravity\n",
        "\n",
        "    trajectory_x.append(x)  # Append final position (on or under ground)\n",
        "    trajectory_y.append(y)\n",
        "\n",
        "    return trajectory_x, trajectory_y, angle_degrees  # Return coordinate lists\n",
        "\n",
        "def run_simulations(results):\n",
        "    angles = np.linspace(Angle_min , Angle_max, Angle_num)\n",
        "    for angle in angles:\n",
        "        results.append(sim(angle))\n",
        "\n",
        "def plot_results(results):\n",
        "    plt.figure(figsize=(8, 5)) # Create the plot\n",
        "    for result in results:\n",
        "        plt.plot(result[0], result[1], label=str(round(result[2],1))+\"°\")\n",
        "    plt.title(\"Projectile motion trajectories for different angles\")  # Set title\n",
        "    plt.xlabel(\"Distance [m]\")  # Set x-axis label\n",
        "    plt.ylabel(\"Height [m]\")  # Set y-axis label\n",
        "    plt.grid(axis='y')  # Add grid lines only along the x-axis\n",
        "    plt.legend()  # Show legend\n",
        "    plt.show()\n",
        "\n",
        "    # Find the most promising trajectory\n",
        "    best = 0\n",
        "    for i in range(len(results)):\n",
        "        if results[i][0][-1] > results[best][0][-1]:\n",
        "            best = i\n",
        "\n",
        "    # plot the end of the found trajectory with a few neighbors\n",
        "    plt.figure(figsize=(8, 5))\n",
        "\n",
        "    for result in results[max(0,best-2):min(len(results),best+3)] :\n",
        "        plt.plot(result[0][-3:], result[1][-3:], label=str(round(result[2],2)))\n",
        "    plt.title(\"Projectile motion trajectories for most promising angles (detail view)\")\n",
        "    plt.xlabel(\"Distance [m]\")\n",
        "    plt.ylabel(\"Height [m]\")\n",
        "    plt.grid(axis='y')\n",
        "    plt.legend()\n",
        "    plt.show()"
      ]
    },
    {
      "cell_type": "markdown",
      "metadata": {
        "id": "n9wTSG-yubi9"
      },
      "source": [
        "\n",
        "## The simulation & visualisation"
      ]
    },
    {
      "cell_type": "code",
      "execution_count": null,
      "metadata": {
        "colab": {
          "base_uri": "https://localhost:8080/",
          "height": 229,
          "referenced_widgets": [
            "706df913f9954a7fa5b47d212505c598",
            "d094777c0df34cdc88aeebf806d607e9",
            "a3d93eb3602f4d71921928f6308de41a",
            "9c9ce38d853f4394a4e030c62330d25c",
            "84ccc2acb12c4edfbb9f50f5f74390da",
            "9daea74dd58f41d594976a742197e7da",
            "9aa8a6245aad46078840550dc1ae8554",
            "88d8cdc54ed549248bfbc8725bc6fef0",
            "8f9c4b3766134c429782b4103e61fdd1",
            "04ce7fed51f647cd820881a97d63b183",
            "21938d08317f48078399703b0db952bb",
            "fe9f4052f85048c1ab28e24860de9636",
            "5c4e3236e98948b4990099ba87503f01",
            "22dd72f50472422e97bea7c657177304",
            "9386344bd42e455dab34629100bab7f3",
            "d05da9e84d1e48ebba53116e370e884c",
            "c37654c7ac65417d92dd45a56cafb03a",
            "7e6ac665ff74473f8248a612132a6278",
            "675725fa239d4674835a7075d1de0e64",
            "279f610a5cca44729afd32b12770745a",
            "6a731c584c2c4496aa555aa8a2038afe"
          ]
        },
        "id": "DxGsf5FaEm9X",
        "outputId": "b1e62f23-aa53-4396-953b-df967cf44f0f"
      },
      "outputs": [],
      "source": [
        "G =-9.81         # @param {type:\"slider\", min:-25, max:25, step:0.01}\n",
        "y_0 = 0          # @param {type:\"slider\", min:0, max:1000, step:1}\n",
        "v_0 = 10         # @param {type:\"slider\", min:0.1, max:100, step:0.01}\n",
        "dt = .1          # @param {type:\"slider\", min:0.01, max:10, step:0.01}\n",
        "Angle_min = 10   # @param {type:\"slider\", min:0, max:89, step:0.1}\n",
        "Angle_max = 80   # @param {type:\"slider\", min:1, max:90, step:0.1}\n",
        "Angle_num = 10   # @param {type:\"slider\", min:1, max:90, step:1}\n",
        "\n",
        "\n",
        "results = [] \n",
        "run_simulations(results)\n",
        "print(f\"Simulation successful, we have finished {len(results)} trials.\")\n",
        "plot_results(results)"
      ]
    },
    {
      "cell_type": "markdown",
      "metadata": {
        "id": "3LqCZbFkwAGv"
      },
      "source": [
        "## The model"
      ]
    },
    {
      "cell_type": "markdown",
      "metadata": {
        "id": "gB3-3HoVzsXe"
      },
      "source": [
        "We do not want to simulate the whole universe, so we make some assumptions. Our work will become much easier, without distorting the results and conclusions too much.\n",
        "\n",
        "* We assume we are on Earth.\n",
        " * Gravitational pull is constant.\n",
        " * Our throw is negligible in comparison to the diameter of the planet.\n",
        "* The object we throw is a mass point: no size, so no balance, no rotation, no friction...\n",
        "\n",
        "We describe the position of the point using carthesian coordinates.\n",
        "The point moves according to the horizontal and vertical components of its velocity. The vertical velocity is changed by gravity."
      ]
    },
    {
      "cell_type": "markdown",
      "metadata": {
        "id": "KTnOTspD-HYZ"
      },
      "source": [
        "## Evaluation"
      ]
    },
    {
      "cell_type": "markdown",
      "metadata": {},
      "source": [
        "*You need to complete the evaluation yourself.*"
      ]
    },
    {
      "cell_type": "markdown",
      "metadata": {
        "id": "9vLW92sVW8B4"
      },
      "source": [
        "The last figure shows us that the optimal angle is between... $some\\ °$ and $some\\ other\\ °$."
      ]
    },
    {
      "cell_type": "markdown",
      "metadata": {
        "id": "ita8VIm8-PuZ"
      },
      "source": [
        "A close look reveals that the $???$ line is the furthest to the right, reaching the highest distance among simulated angles. Other trajectories recede to the left."
      ]
    },
    {
      "cell_type": "markdown",
      "metadata": {
        "id": "2-JHFXlu-MTs"
      },
      "source": [
        "## Result"
      ]
    },
    {
      "cell_type": "markdown",
      "metadata": {},
      "source": [
        "*You need to decide on the results and complete them yourself.*"
      ]
    },
    {
      "cell_type": "markdown",
      "metadata": {
        "id": "fwfUrJyBjZ7L"
      },
      "source": [
        "Based on the results of our simulation, we can conclude that the optimal angle to throw an object from $???\\ m$ at $???\\ ms^{-1}$ is between $???°$ and $???°$. This is under the assumptions listed above, namely Earth with the atmosphere lost.\n",
        "\n",
        "Whether this matches other methods, e.g. direct analytical calculation and experimentation, is yet to be determined."
      ]
    }
  ],
  "metadata": {
    "colab": {
      "provenance": []
    },
    "kernelspec": {
      "display_name": "Python 3",
      "name": "python3"
    },
    "language_info": {
      "codemirror_mode": {
        "name": "ipython",
        "version": 3
      },
      "file_extension": ".py",
      "mimetype": "text/x-python",
      "name": "python",
      "nbconvert_exporter": "python",
      "pygments_lexer": "ipython3",
      "version": "3.10.11"
    },
    "widgets": {
      "application/vnd.jupyter.widget-state+json": {
        "04ce7fed51f647cd820881a97d63b183": {
          "model_module": "@jupyter-widgets/controls",
          "model_module_version": "1.5.0",
          "model_name": "FloatSliderModel",
          "state": {
            "_dom_classes": [],
            "_model_module": "@jupyter-widgets/controls",
            "_model_module_version": "1.5.0",
            "_model_name": "FloatSliderModel",
            "_view_count": null,
            "_view_module": "@jupyter-widgets/controls",
            "_view_module_version": "1.5.0",
            "_view_name": "FloatSliderView",
            "continuous_update": true,
            "description": "Time step",
            "description_tooltip": null,
            "disabled": false,
            "layout": "IPY_MODEL_21938d08317f48078399703b0db952bb",
            "max": 10,
            "min": 0.01,
            "orientation": "horizontal",
            "readout": true,
            "readout_format": ".2f",
            "step": 0.01,
            "style": "IPY_MODEL_fe9f4052f85048c1ab28e24860de9636",
            "value": 0.1
          }
        },
        "21938d08317f48078399703b0db952bb": {
          "model_module": "@jupyter-widgets/base",
          "model_module_version": "1.2.0",
          "model_name": "LayoutModel",
          "state": {
            "_model_module": "@jupyter-widgets/base",
            "_model_module_version": "1.2.0",
            "_model_name": "LayoutModel",
            "_view_count": null,
            "_view_module": "@jupyter-widgets/base",
            "_view_module_version": "1.2.0",
            "_view_name": "LayoutView",
            "align_content": null,
            "align_items": null,
            "align_self": null,
            "border": null,
            "bottom": null,
            "display": null,
            "flex": null,
            "flex_flow": null,
            "grid_area": null,
            "grid_auto_columns": null,
            "grid_auto_flow": null,
            "grid_auto_rows": null,
            "grid_column": null,
            "grid_gap": null,
            "grid_row": null,
            "grid_template_areas": null,
            "grid_template_columns": null,
            "grid_template_rows": null,
            "height": null,
            "justify_content": null,
            "justify_items": null,
            "left": null,
            "margin": null,
            "max_height": null,
            "max_width": null,
            "min_height": null,
            "min_width": null,
            "object_fit": null,
            "object_position": null,
            "order": null,
            "overflow": null,
            "overflow_x": null,
            "overflow_y": null,
            "padding": null,
            "right": null,
            "top": null,
            "visibility": null,
            "width": null
          }
        },
        "22dd72f50472422e97bea7c657177304": {
          "model_module": "@jupyter-widgets/base",
          "model_module_version": "1.2.0",
          "model_name": "LayoutModel",
          "state": {
            "_model_module": "@jupyter-widgets/base",
            "_model_module_version": "1.2.0",
            "_model_name": "LayoutModel",
            "_view_count": null,
            "_view_module": "@jupyter-widgets/base",
            "_view_module_version": "1.2.0",
            "_view_name": "LayoutView",
            "align_content": null,
            "align_items": null,
            "align_self": null,
            "border": null,
            "bottom": null,
            "display": null,
            "flex": null,
            "flex_flow": null,
            "grid_area": null,
            "grid_auto_columns": null,
            "grid_auto_flow": null,
            "grid_auto_rows": null,
            "grid_column": null,
            "grid_gap": null,
            "grid_row": null,
            "grid_template_areas": null,
            "grid_template_columns": null,
            "grid_template_rows": null,
            "height": null,
            "justify_content": null,
            "justify_items": null,
            "left": null,
            "margin": null,
            "max_height": null,
            "max_width": null,
            "min_height": null,
            "min_width": null,
            "object_fit": null,
            "object_position": null,
            "order": null,
            "overflow": null,
            "overflow_x": null,
            "overflow_y": null,
            "padding": null,
            "right": null,
            "top": null,
            "visibility": null,
            "width": null
          }
        },
        "279f610a5cca44729afd32b12770745a": {
          "model_module": "@jupyter-widgets/base",
          "model_module_version": "1.2.0",
          "model_name": "LayoutModel",
          "state": {
            "_model_module": "@jupyter-widgets/base",
            "_model_module_version": "1.2.0",
            "_model_name": "LayoutModel",
            "_view_count": null,
            "_view_module": "@jupyter-widgets/base",
            "_view_module_version": "1.2.0",
            "_view_name": "LayoutView",
            "align_content": null,
            "align_items": null,
            "align_self": null,
            "border": null,
            "bottom": null,
            "display": null,
            "flex": null,
            "flex_flow": null,
            "grid_area": null,
            "grid_auto_columns": null,
            "grid_auto_flow": null,
            "grid_auto_rows": null,
            "grid_column": null,
            "grid_gap": null,
            "grid_row": null,
            "grid_template_areas": null,
            "grid_template_columns": null,
            "grid_template_rows": null,
            "height": null,
            "justify_content": null,
            "justify_items": null,
            "left": null,
            "margin": null,
            "max_height": null,
            "max_width": null,
            "min_height": null,
            "min_width": null,
            "object_fit": null,
            "object_position": null,
            "order": null,
            "overflow": null,
            "overflow_x": null,
            "overflow_y": null,
            "padding": null,
            "right": null,
            "top": null,
            "visibility": null,
            "width": null
          }
        },
        "5c4e3236e98948b4990099ba87503f01": {
          "model_module": "@jupyter-widgets/controls",
          "model_module_version": "1.5.0",
          "model_name": "FloatSliderModel",
          "state": {
            "_dom_classes": [],
            "_model_module": "@jupyter-widgets/controls",
            "_model_module_version": "1.5.0",
            "_model_name": "FloatSliderModel",
            "_view_count": null,
            "_view_module": "@jupyter-widgets/controls",
            "_view_module_version": "1.5.0",
            "_view_name": "FloatSliderView",
            "continuous_update": true,
            "description": "Min. angle",
            "description_tooltip": null,
            "disabled": false,
            "layout": "IPY_MODEL_22dd72f50472422e97bea7c657177304",
            "max": 89,
            "min": 0,
            "orientation": "horizontal",
            "readout": true,
            "readout_format": ".2f",
            "step": 0.1,
            "style": "IPY_MODEL_9386344bd42e455dab34629100bab7f3",
            "value": 10
          }
        },
        "675725fa239d4674835a7075d1de0e64": {
          "model_module": "@jupyter-widgets/controls",
          "model_module_version": "1.5.0",
          "model_name": "IntSliderModel",
          "state": {
            "_dom_classes": [],
            "_model_module": "@jupyter-widgets/controls",
            "_model_module_version": "1.5.0",
            "_model_name": "IntSliderModel",
            "_view_count": null,
            "_view_module": "@jupyter-widgets/controls",
            "_view_module_version": "1.5.0",
            "_view_name": "IntSliderView",
            "continuous_update": true,
            "description": "# of trials",
            "description_tooltip": null,
            "disabled": false,
            "layout": "IPY_MODEL_279f610a5cca44729afd32b12770745a",
            "max": 90,
            "min": 1,
            "orientation": "horizontal",
            "readout": true,
            "readout_format": "d",
            "step": 1,
            "style": "IPY_MODEL_6a731c584c2c4496aa555aa8a2038afe",
            "value": 10
          }
        },
        "6a731c584c2c4496aa555aa8a2038afe": {
          "model_module": "@jupyter-widgets/controls",
          "model_module_version": "1.5.0",
          "model_name": "SliderStyleModel",
          "state": {
            "_model_module": "@jupyter-widgets/controls",
            "_model_module_version": "1.5.0",
            "_model_name": "SliderStyleModel",
            "_view_count": null,
            "_view_module": "@jupyter-widgets/base",
            "_view_module_version": "1.2.0",
            "_view_name": "StyleView",
            "description_width": "",
            "handle_color": null
          }
        },
        "706df913f9954a7fa5b47d212505c598": {
          "model_module": "@jupyter-widgets/controls",
          "model_module_version": "1.5.0",
          "model_name": "FloatSliderModel",
          "state": {
            "_dom_classes": [],
            "_model_module": "@jupyter-widgets/controls",
            "_model_module_version": "1.5.0",
            "_model_name": "FloatSliderModel",
            "_view_count": null,
            "_view_module": "@jupyter-widgets/controls",
            "_view_module_version": "1.5.0",
            "_view_name": "FloatSliderView",
            "continuous_update": true,
            "description": "Gravity",
            "description_tooltip": null,
            "disabled": false,
            "layout": "IPY_MODEL_d094777c0df34cdc88aeebf806d607e9",
            "max": 25,
            "min": -25,
            "orientation": "horizontal",
            "readout": true,
            "readout_format": ".2f",
            "step": 0.01,
            "style": "IPY_MODEL_a3d93eb3602f4d71921928f6308de41a",
            "value": -9.81
          }
        },
        "7e6ac665ff74473f8248a612132a6278": {
          "model_module": "@jupyter-widgets/controls",
          "model_module_version": "1.5.0",
          "model_name": "SliderStyleModel",
          "state": {
            "_model_module": "@jupyter-widgets/controls",
            "_model_module_version": "1.5.0",
            "_model_name": "SliderStyleModel",
            "_view_count": null,
            "_view_module": "@jupyter-widgets/base",
            "_view_module_version": "1.2.0",
            "_view_name": "StyleView",
            "description_width": "",
            "handle_color": null
          }
        },
        "84ccc2acb12c4edfbb9f50f5f74390da": {
          "model_module": "@jupyter-widgets/base",
          "model_module_version": "1.2.0",
          "model_name": "LayoutModel",
          "state": {
            "_model_module": "@jupyter-widgets/base",
            "_model_module_version": "1.2.0",
            "_model_name": "LayoutModel",
            "_view_count": null,
            "_view_module": "@jupyter-widgets/base",
            "_view_module_version": "1.2.0",
            "_view_name": "LayoutView",
            "align_content": null,
            "align_items": null,
            "align_self": null,
            "border": null,
            "bottom": null,
            "display": null,
            "flex": null,
            "flex_flow": null,
            "grid_area": null,
            "grid_auto_columns": null,
            "grid_auto_flow": null,
            "grid_auto_rows": null,
            "grid_column": null,
            "grid_gap": null,
            "grid_row": null,
            "grid_template_areas": null,
            "grid_template_columns": null,
            "grid_template_rows": null,
            "height": null,
            "justify_content": null,
            "justify_items": null,
            "left": null,
            "margin": null,
            "max_height": null,
            "max_width": null,
            "min_height": null,
            "min_width": null,
            "object_fit": null,
            "object_position": null,
            "order": null,
            "overflow": null,
            "overflow_x": null,
            "overflow_y": null,
            "padding": null,
            "right": null,
            "top": null,
            "visibility": null,
            "width": null
          }
        },
        "88d8cdc54ed549248bfbc8725bc6fef0": {
          "model_module": "@jupyter-widgets/base",
          "model_module_version": "1.2.0",
          "model_name": "LayoutModel",
          "state": {
            "_model_module": "@jupyter-widgets/base",
            "_model_module_version": "1.2.0",
            "_model_name": "LayoutModel",
            "_view_count": null,
            "_view_module": "@jupyter-widgets/base",
            "_view_module_version": "1.2.0",
            "_view_name": "LayoutView",
            "align_content": null,
            "align_items": null,
            "align_self": null,
            "border": null,
            "bottom": null,
            "display": null,
            "flex": null,
            "flex_flow": null,
            "grid_area": null,
            "grid_auto_columns": null,
            "grid_auto_flow": null,
            "grid_auto_rows": null,
            "grid_column": null,
            "grid_gap": null,
            "grid_row": null,
            "grid_template_areas": null,
            "grid_template_columns": null,
            "grid_template_rows": null,
            "height": null,
            "justify_content": null,
            "justify_items": null,
            "left": null,
            "margin": null,
            "max_height": null,
            "max_width": null,
            "min_height": null,
            "min_width": null,
            "object_fit": null,
            "object_position": null,
            "order": null,
            "overflow": null,
            "overflow_x": null,
            "overflow_y": null,
            "padding": null,
            "right": null,
            "top": null,
            "visibility": null,
            "width": null
          }
        },
        "8f9c4b3766134c429782b4103e61fdd1": {
          "model_module": "@jupyter-widgets/controls",
          "model_module_version": "1.5.0",
          "model_name": "SliderStyleModel",
          "state": {
            "_model_module": "@jupyter-widgets/controls",
            "_model_module_version": "1.5.0",
            "_model_name": "SliderStyleModel",
            "_view_count": null,
            "_view_module": "@jupyter-widgets/base",
            "_view_module_version": "1.2.0",
            "_view_name": "StyleView",
            "description_width": "",
            "handle_color": null
          }
        },
        "9386344bd42e455dab34629100bab7f3": {
          "model_module": "@jupyter-widgets/controls",
          "model_module_version": "1.5.0",
          "model_name": "SliderStyleModel",
          "state": {
            "_model_module": "@jupyter-widgets/controls",
            "_model_module_version": "1.5.0",
            "_model_name": "SliderStyleModel",
            "_view_count": null,
            "_view_module": "@jupyter-widgets/base",
            "_view_module_version": "1.2.0",
            "_view_name": "StyleView",
            "description_width": "",
            "handle_color": null
          }
        },
        "9aa8a6245aad46078840550dc1ae8554": {
          "model_module": "@jupyter-widgets/controls",
          "model_module_version": "1.5.0",
          "model_name": "FloatSliderModel",
          "state": {
            "_dom_classes": [],
            "_model_module": "@jupyter-widgets/controls",
            "_model_module_version": "1.5.0",
            "_model_name": "FloatSliderModel",
            "_view_count": null,
            "_view_module": "@jupyter-widgets/controls",
            "_view_module_version": "1.5.0",
            "_view_name": "FloatSliderView",
            "continuous_update": true,
            "description": "Initial velocity",
            "description_tooltip": null,
            "disabled": false,
            "layout": "IPY_MODEL_88d8cdc54ed549248bfbc8725bc6fef0",
            "max": 100,
            "min": 0,
            "orientation": "horizontal",
            "readout": true,
            "readout_format": ".2f",
            "step": 0.1,
            "style": "IPY_MODEL_8f9c4b3766134c429782b4103e61fdd1",
            "value": 10
          }
        },
        "9c9ce38d853f4394a4e030c62330d25c": {
          "model_module": "@jupyter-widgets/controls",
          "model_module_version": "1.5.0",
          "model_name": "FloatSliderModel",
          "state": {
            "_dom_classes": [],
            "_model_module": "@jupyter-widgets/controls",
            "_model_module_version": "1.5.0",
            "_model_name": "FloatSliderModel",
            "_view_count": null,
            "_view_module": "@jupyter-widgets/controls",
            "_view_module_version": "1.5.0",
            "_view_name": "FloatSliderView",
            "continuous_update": true,
            "description": "Initial height",
            "description_tooltip": null,
            "disabled": false,
            "layout": "IPY_MODEL_84ccc2acb12c4edfbb9f50f5f74390da",
            "max": 1000,
            "min": 0,
            "orientation": "horizontal",
            "readout": true,
            "readout_format": ".2f",
            "step": 1,
            "style": "IPY_MODEL_9daea74dd58f41d594976a742197e7da",
            "value": 0
          }
        },
        "9daea74dd58f41d594976a742197e7da": {
          "model_module": "@jupyter-widgets/controls",
          "model_module_version": "1.5.0",
          "model_name": "SliderStyleModel",
          "state": {
            "_model_module": "@jupyter-widgets/controls",
            "_model_module_version": "1.5.0",
            "_model_name": "SliderStyleModel",
            "_view_count": null,
            "_view_module": "@jupyter-widgets/base",
            "_view_module_version": "1.2.0",
            "_view_name": "StyleView",
            "description_width": "",
            "handle_color": null
          }
        },
        "a3d93eb3602f4d71921928f6308de41a": {
          "model_module": "@jupyter-widgets/controls",
          "model_module_version": "1.5.0",
          "model_name": "SliderStyleModel",
          "state": {
            "_model_module": "@jupyter-widgets/controls",
            "_model_module_version": "1.5.0",
            "_model_name": "SliderStyleModel",
            "_view_count": null,
            "_view_module": "@jupyter-widgets/base",
            "_view_module_version": "1.2.0",
            "_view_name": "StyleView",
            "description_width": "",
            "handle_color": null
          }
        },
        "c37654c7ac65417d92dd45a56cafb03a": {
          "model_module": "@jupyter-widgets/base",
          "model_module_version": "1.2.0",
          "model_name": "LayoutModel",
          "state": {
            "_model_module": "@jupyter-widgets/base",
            "_model_module_version": "1.2.0",
            "_model_name": "LayoutModel",
            "_view_count": null,
            "_view_module": "@jupyter-widgets/base",
            "_view_module_version": "1.2.0",
            "_view_name": "LayoutView",
            "align_content": null,
            "align_items": null,
            "align_self": null,
            "border": null,
            "bottom": null,
            "display": null,
            "flex": null,
            "flex_flow": null,
            "grid_area": null,
            "grid_auto_columns": null,
            "grid_auto_flow": null,
            "grid_auto_rows": null,
            "grid_column": null,
            "grid_gap": null,
            "grid_row": null,
            "grid_template_areas": null,
            "grid_template_columns": null,
            "grid_template_rows": null,
            "height": null,
            "justify_content": null,
            "justify_items": null,
            "left": null,
            "margin": null,
            "max_height": null,
            "max_width": null,
            "min_height": null,
            "min_width": null,
            "object_fit": null,
            "object_position": null,
            "order": null,
            "overflow": null,
            "overflow_x": null,
            "overflow_y": null,
            "padding": null,
            "right": null,
            "top": null,
            "visibility": null,
            "width": null
          }
        },
        "d05da9e84d1e48ebba53116e370e884c": {
          "model_module": "@jupyter-widgets/controls",
          "model_module_version": "1.5.0",
          "model_name": "FloatSliderModel",
          "state": {
            "_dom_classes": [],
            "_model_module": "@jupyter-widgets/controls",
            "_model_module_version": "1.5.0",
            "_model_name": "FloatSliderModel",
            "_view_count": null,
            "_view_module": "@jupyter-widgets/controls",
            "_view_module_version": "1.5.0",
            "_view_name": "FloatSliderView",
            "continuous_update": true,
            "description": "Max. angle",
            "description_tooltip": null,
            "disabled": false,
            "layout": "IPY_MODEL_c37654c7ac65417d92dd45a56cafb03a",
            "max": 90,
            "min": 1,
            "orientation": "horizontal",
            "readout": true,
            "readout_format": ".2f",
            "step": 0.1,
            "style": "IPY_MODEL_7e6ac665ff74473f8248a612132a6278",
            "value": 80
          }
        },
        "d094777c0df34cdc88aeebf806d607e9": {
          "model_module": "@jupyter-widgets/base",
          "model_module_version": "1.2.0",
          "model_name": "LayoutModel",
          "state": {
            "_model_module": "@jupyter-widgets/base",
            "_model_module_version": "1.2.0",
            "_model_name": "LayoutModel",
            "_view_count": null,
            "_view_module": "@jupyter-widgets/base",
            "_view_module_version": "1.2.0",
            "_view_name": "LayoutView",
            "align_content": null,
            "align_items": null,
            "align_self": null,
            "border": null,
            "bottom": null,
            "display": null,
            "flex": null,
            "flex_flow": null,
            "grid_area": null,
            "grid_auto_columns": null,
            "grid_auto_flow": null,
            "grid_auto_rows": null,
            "grid_column": null,
            "grid_gap": null,
            "grid_row": null,
            "grid_template_areas": null,
            "grid_template_columns": null,
            "grid_template_rows": null,
            "height": null,
            "justify_content": null,
            "justify_items": null,
            "left": null,
            "margin": null,
            "max_height": null,
            "max_width": null,
            "min_height": null,
            "min_width": null,
            "object_fit": null,
            "object_position": null,
            "order": null,
            "overflow": null,
            "overflow_x": null,
            "overflow_y": null,
            "padding": null,
            "right": null,
            "top": null,
            "visibility": null,
            "width": null
          }
        },
        "fe9f4052f85048c1ab28e24860de9636": {
          "model_module": "@jupyter-widgets/controls",
          "model_module_version": "1.5.0",
          "model_name": "SliderStyleModel",
          "state": {
            "_model_module": "@jupyter-widgets/controls",
            "_model_module_version": "1.5.0",
            "_model_name": "SliderStyleModel",
            "_view_count": null,
            "_view_module": "@jupyter-widgets/base",
            "_view_module_version": "1.2.0",
            "_view_name": "StyleView",
            "description_width": "",
            "handle_color": null
          }
        }
      }
    }
  },
  "nbformat": 4,
  "nbformat_minor": 0
}
