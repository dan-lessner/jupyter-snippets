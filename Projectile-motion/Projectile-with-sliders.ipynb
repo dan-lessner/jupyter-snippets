{
  "cells": [
    {
      "cell_type": "markdown",
      "metadata": {
        "id": "JGL1oSiAS5As"
      },
      "source": [
        "# Projectile motion\n",
        "\n",
        "*This is the next evolutionary step. It allows user interaction without directly editing code. The code is reorganized to facilitate this interactivity.*"
      ]
    },
    {
      "cell_type": "markdown",
      "metadata": {
        "id": "bPh2BF0fz0jq"
      },
      "source": [
        "## The question\n",
        "We are trying to throw an object as far as possible. What is the optimal angle?"
      ]
    },
    {
      "cell_type": "markdown",
      "metadata": {
        "id": "-pSZMxbrv_Dq"
      },
      "source": [
        "## The process"
      ]
    },
    {
      "cell_type": "markdown",
      "metadata": {
        "id": "3XyGePUIzvDj"
      },
      "source": [
        "\n",
        "1. Decide on a model.\n",
        "1. Implement it.\n",
        "1. Run the simulation, collect data.\n",
        "1. Visualize the data for evaluation.\n",
        "1. Possibly change parameters (promising angles) and repeat the process.\n",
        "1. Decide on a (reasonably precise) result.\n",
        "1. Write a conclusion."
      ]
    },
    {
      "cell_type": "markdown",
      "metadata": {
        "id": "3LqCZbFkwAGv"
      },
      "source": [
        "## The model"
      ]
    },
    {
      "cell_type": "markdown",
      "metadata": {
        "id": "gB3-3HoVzsXe"
      },
      "source": [
        "We do not want to simulate the whole universe, so we make some assumptions. Our work will become much easier, without distorting the results and conclusions too much.\n",
        "\n",
        "* We assume we are on Earth.\n",
        " * Gravitational pull is constant.\n",
        " * Our throw is negligible in comparison to the diameter of the planet.\n",
        "* The object we throw is a mass point: no size, so no balance, no rotation, no friction...\n",
        "\n",
        "We describe the position of the point using carthesian coordinates.\n",
        "The point moves according to the horizontal and vertical components of its velocity. The vertical velocity is changed by gravity."
      ]
    },
    {
      "cell_type": "markdown",
      "metadata": {
        "id": "n9wTSG-yubi9"
      },
      "source": [
        "\n",
        "## The simulation\n",
        "\n"
      ]
    },
    {
      "cell_type": "markdown",
      "metadata": {
        "id": "RD7FNIjgEn5i"
      },
      "source": [
        "Set the basic parameters:"
      ]
    },
    {
      "cell_type": "code",
      "execution_count": null,
      "metadata": {
        "colab": {
          "base_uri": "https://localhost:8080/",
          "height": 229,
          "referenced_widgets": [
            "706df913f9954a7fa5b47d212505c598",
            "d094777c0df34cdc88aeebf806d607e9",
            "a3d93eb3602f4d71921928f6308de41a",
            "9c9ce38d853f4394a4e030c62330d25c",
            "84ccc2acb12c4edfbb9f50f5f74390da",
            "9daea74dd58f41d594976a742197e7da",
            "9aa8a6245aad46078840550dc1ae8554",
            "88d8cdc54ed549248bfbc8725bc6fef0",
            "8f9c4b3766134c429782b4103e61fdd1",
            "04ce7fed51f647cd820881a97d63b183",
            "21938d08317f48078399703b0db952bb",
            "fe9f4052f85048c1ab28e24860de9636",
            "5c4e3236e98948b4990099ba87503f01",
            "22dd72f50472422e97bea7c657177304",
            "9386344bd42e455dab34629100bab7f3",
            "d05da9e84d1e48ebba53116e370e884c",
            "c37654c7ac65417d92dd45a56cafb03a",
            "7e6ac665ff74473f8248a612132a6278",
            "675725fa239d4674835a7075d1de0e64",
            "279f610a5cca44729afd32b12770745a",
            "6a731c584c2c4496aa555aa8a2038afe"
          ]
        },
        "id": "DxGsf5FaEm9X",
        "outputId": "b1e62f23-aa53-4396-953b-df967cf44f0f"
      },
      "outputs": [
        {
          "data": {
            "application/vnd.jupyter.widget-view+json": {
              "model_id": "f2fc4df3531f4c92ad3487b151242ed4",
              "version_major": 2,
              "version_minor": 0
            },
            "text/plain": [
              "FloatSlider(value=-9.81, description='Gravity', max=25.0, min=-25.0, step=0.01)"
            ]
          },
          "metadata": {},
          "output_type": "display_data"
        },
        {
          "data": {
            "application/vnd.jupyter.widget-view+json": {
              "model_id": "beb238a8b5284b999b810ad0a3600a78",
              "version_major": 2,
              "version_minor": 0
            },
            "text/plain": [
              "FloatSlider(value=0.0, description='Initial height', max=1000.0, step=1.0)"
            ]
          },
          "metadata": {},
          "output_type": "display_data"
        },
        {
          "data": {
            "application/vnd.jupyter.widget-view+json": {
              "model_id": "e99e8ea4ea6e4a7b969a9b14905b8f1b",
              "version_major": 2,
              "version_minor": 0
            },
            "text/plain": [
              "FloatSlider(value=10.0, description='Initial velocity')"
            ]
          },
          "metadata": {},
          "output_type": "display_data"
        },
        {
          "data": {
            "application/vnd.jupyter.widget-view+json": {
              "model_id": "63e9a8b25f60493bb266c09ee6886bdd",
              "version_major": 2,
              "version_minor": 0
            },
            "text/plain": [
              "FloatSlider(value=0.1, description='Time step', max=10.0, min=0.01, step=0.01)"
            ]
          },
          "metadata": {},
          "output_type": "display_data"
        },
        {
          "data": {
            "application/vnd.jupyter.widget-view+json": {
              "model_id": "f46a38d78622471ba0713958e9cbea62",
              "version_major": 2,
              "version_minor": 0
            },
            "text/plain": [
              "FloatSlider(value=10.0, description='Min. angle', max=89.0)"
            ]
          },
          "metadata": {},
          "output_type": "display_data"
        },
        {
          "data": {
            "application/vnd.jupyter.widget-view+json": {
              "model_id": "495b6152895446f7aae54bfbd63eba86",
              "version_major": 2,
              "version_minor": 0
            },
            "text/plain": [
              "FloatSlider(value=80.0, description='Max. angle', max=90.0, min=1.0)"
            ]
          },
          "metadata": {},
          "output_type": "display_data"
        },
        {
          "data": {
            "application/vnd.jupyter.widget-view+json": {
              "model_id": "e4a9f4208d2f43a4812a292cad0438ed",
              "version_major": 2,
              "version_minor": 0
            },
            "text/plain": [
              "IntSlider(value=10, description='# of trials', max=90, min=1)"
            ]
          },
          "metadata": {},
          "output_type": "display_data"
        }
      ],
      "source": [
        "from ipywidgets import interact, interactive, fixed, interact_manual\n",
        "import ipywidgets as widgets\n",
        "import numpy as np\n",
        "\n",
        "Parameters = {}\n",
        "Parameters[\"G\"] = widgets.FloatSlider(description=\"Gravity\", value=-9.81, step=0.01,  min=-25, max=25)\n",
        "Parameters[\"y_0\"] = widgets.FloatSlider(description=\"Initial height\", value=0, step=1,  min=0, max=1000)\n",
        "Parameters[\"v_0\"] = widgets.FloatSlider(description=\"Initial velocity\", value=10, step=0.1,  min=0, max=100)\n",
        "Parameters[\"dt\"] = widgets.FloatSlider(description=\"Time step\", value=.1, step=0.01,  min=0.01, max=10)\n",
        "Parameters[\"Angle_min\"] = widgets.FloatSlider(description=\"Min. angle\", value=10, step=.1,  min=0, max=89)\n",
        "Parameters[\"Angle_max\"] = widgets.FloatSlider(description=\"Max. angle\", value=80, step=.1,  min=1, max=90)\n",
        "Parameters[\"Angle_num\"] = widgets.IntSlider(description=\"# of trials\", value=10, step=1,  min=1, max=90)\n",
        "\n",
        "for Param in Parameters.values() :\n",
        "  display(Param)"
      ]
    },
    {
      "cell_type": "markdown",
      "metadata": {
        "id": "N5LerklrYqKx"
      },
      "source": [
        "Now run the simulation."
      ]
    },
    {
      "cell_type": "code",
      "execution_count": null,
      "metadata": {
        "colab": {
          "base_uri": "https://localhost:8080/"
        },
        "id": "0kUMMixOA27q",
        "outputId": "20680b17-aeea-44f6-ebaa-d7159f967e5e",
        "trusted": true
      },
      "outputs": [
        {
          "name": "stdout",
          "output_type": "stream",
          "text": [
            "Simulation successful, we have finished 10 trials.\n"
          ]
        }
      ],
      "source": [
        "import math\n",
        "\n",
        "def sim(angle_degrees):\n",
        "    x = 0\n",
        "    y = Parameters[\"y_0\"].value\n",
        "    angle = math.radians(angle_degrees)  # Convert angle from degrees to radians\n",
        "    v_x = Parameters[\"v_0\"].value * math.cos(angle)  # Horizontal velocity\n",
        "    v_y = Parameters[\"v_0\"].value * math.cos(math.pi/2 - angle)  # Vertical velocity\n",
        "    trajectory_x = []  # Lists to store positions\n",
        "    trajectory_y = []\n",
        "\n",
        "    while y >= 0:  # Loop to calculate motion as long as the object flies\n",
        "        trajectory_x.append(x)  # Store position\n",
        "        trajectory_y.append(y)\n",
        "        x += v_x * Parameters[\"dt\"].value  # Update position based on horizontal velocity\n",
        "        y += v_y * Parameters[\"dt\"].value\n",
        "        v_y += Parameters[\"G\"].value * Parameters[\"dt\"].value  # Update vertical velocity based on gravity\n",
        "\n",
        "    trajectory_x.append(x)  # Append final position (on or under ground)\n",
        "    trajectory_y.append(y)\n",
        "\n",
        "    return trajectory_x, trajectory_y, angle_degrees  # Return coordinate lists\n",
        "\n",
        "results = []  # List of resulting trajectories (pairs of lists of x an y coordinates)\n",
        "angles = np.linspace(Parameters['Angle_min'].value , Parameters['Angle_max'].value, Parameters['Angle_num'].value)\n",
        "for angle in angles:\n",
        "    results.append(sim(angle))\n",
        "\n",
        "print(f\"Simulation successful, we have finished {len(results)} trials.\")\n"
      ]
    },
    {
      "cell_type": "markdown",
      "metadata": {
        "id": "VXHSs_ECzc3Q"
      },
      "source": [
        "## Visualization\n",
        "\n",
        "Run the following code to see the simulation results."
      ]
    },
    {
      "cell_type": "code",
      "execution_count": null,
      "metadata": {
        "colab": {
          "base_uri": "https://localhost:8080/",
          "height": 975
        },
        "id": "YYBCWqQvFE8Z",
        "outputId": "faa042b1-0cc4-49ca-c8d4-0889b9f23a86"
      },
      "outputs": [],
      "source": [
        "import matplotlib.pyplot as plt\n",
        "\n",
        "plt.figure(figsize=(8, 5)) # Create the plot\n",
        "\n",
        "for result in results:\n",
        "    plt.plot(result[0], result[1], label=str(round(result[2],1))+\"°\")\n",
        "plt.title(\"Projectile motion trajectories for different angles\")  # Set title\n",
        "plt.xlabel(\"Distance [m]\")  # Set x-axis label\n",
        "plt.ylabel(\"Height [m]\")  # Set y-axis label\n",
        "plt.grid(axis='y')  # Add grid lines only along the x-axis\n",
        "plt.legend()  # Show legend\n",
        "plt.show()\n",
        "\n",
        "# Find the most promising trajectory\n",
        "best = 0\n",
        "for i in range(results):\n",
        "    if result[i][-1] > result[best][-1]:\n",
        "        best = i\n",
        "\n",
        "# plot the end of the found trajectory with a few neighbors\n",
        "plt.figure(figsize=(8, 5))\n",
        "\n",
        "for result in results[max(0,best-2):min(len(results),best+3)] :\n",
        "    plt.plot(result[0][-3:], result[1][-3:], label=str(round(result[2],2)))\n",
        "plt.title(\"Projectile motion trajectories for most promising angles (detail view)\")\n",
        "plt.xlabel(\"Distance [m]\")\n",
        "plt.ylabel(\"Height [m]\")\n",
        "plt.grid(axis='y')\n",
        "plt.legend()\n",
        "plt.show()\n",
        "\n",
        "print(\"the answer is...\")"
      ]
    },
    {
      "cell_type": "markdown",
      "metadata": {
        "id": "9vLW92sVW8B4"
      },
      "source": [
        "The last figure shows us that the optimal angle is between $6°$ and $18°$."
      ]
    },
    {
      "cell_type": "markdown",
      "metadata": {
        "id": "KTnOTspD-HYZ"
      },
      "source": [
        "## Evaluation"
      ]
    },
    {
      "cell_type": "markdown",
      "metadata": {
        "id": "ita8VIm8-PuZ"
      },
      "source": [
        "A close look reveals that the pink ($12°$) and the grey ($13°$) line overlap and they are the furthest to the right, reaching the highest distance among simulated angles. Other trajectories recede to the left in pairs ($11°$ with $14°$ and so on)."
      ]
    },
    {
      "cell_type": "markdown",
      "metadata": {
        "id": "2-JHFXlu-MTs"
      },
      "source": [
        "## Result"
      ]
    },
    {
      "cell_type": "markdown",
      "metadata": {
        "id": "fwfUrJyBjZ7L"
      },
      "source": [
        "Based on the results of our simulation, we can conclude that the optimal angle to throw an object from $100$ meters is between $12°$ and $13°$, likely near $12,5°$. This is under the assumptions listed above, namely Earth with the atmosphere lost.\n",
        "\n",
        "Whether this matches other methods, e.g. direct analytical calculation and experimentation, is yet to be determined."
      ]
    },
    {
      "cell_type": "code",
      "execution_count": null,
      "metadata": {
        "colab": {
          "base_uri": "https://localhost:8080/",
          "height": 472
        },
        "id": "q4vjY7z_HNew",
        "outputId": "7bce37d3-d81d-4c17-ba05-fccd6f6c70e1"
      },
      "outputs": [
        {
          "data": {
            "image/png": "[encoded data removed]",
            "text/plain": [
              "<Figure size 640x480 with 1 Axes>"
            ]
          },
          "metadata": {},
          "output_type": "display_data"
        }
      ],
      "source": [
        "%matplotlib inline\n",
        "import matplotlib.pyplot as plt\n",
        "\n",
        "# Generate some data\n",
        "data = [1, 2, 3, 4, 5]\n",
        "\n",
        "# Create a plot\n",
        "plt.plot(data)\n",
        "plt.title(\"Simple Line Plot\")\n",
        "plt.xlabel(\"X-axis\")\n",
        "plt.ylabel(\"Y-axis\")\n",
        "plt.show()"
      ]
    }
  ],
  "metadata": {
    "colab": {
      "provenance": []
    },
    "kernelspec": {
      "display_name": "Python 3",
      "name": "python3"
    },
    "language_info": {
      "codemirror_mode": {
        "name": "ipython",
        "version": 3
      },
      "file_extension": ".py",
      "mimetype": "text/x-python",
      "name": "python",
      "nbconvert_exporter": "python",
      "pygments_lexer": "ipython3",
      "version": "3.10.11"
    },
    "widgets": {
      "application/vnd.jupyter.widget-state+json": {
        "04ce7fed51f647cd820881a97d63b183": {
          "model_module": "@jupyter-widgets/controls",
          "model_module_version": "1.5.0",
          "model_name": "FloatSliderModel",
          "state": {
            "_dom_classes": [],
            "_model_module": "@jupyter-widgets/controls",
            "_model_module_version": "1.5.0",
            "_model_name": "FloatSliderModel",
            "_view_count": null,
            "_view_module": "@jupyter-widgets/controls",
            "_view_module_version": "1.5.0",
            "_view_name": "FloatSliderView",
            "continuous_update": true,
            "description": "Time step",
            "description_tooltip": null,
            "disabled": false,
            "layout": "IPY_MODEL_21938d08317f48078399703b0db952bb",
            "max": 10,
            "min": 0.01,
            "orientation": "horizontal",
            "readout": true,
            "readout_format": ".2f",
            "step": 0.01,
            "style": "IPY_MODEL_fe9f4052f85048c1ab28e24860de9636",
            "value": 0.1
          }
        },
        "21938d08317f48078399703b0db952bb": {
          "model_module": "@jupyter-widgets/base",
          "model_module_version": "1.2.0",
          "model_name": "LayoutModel",
          "state": {
            "_model_module": "@jupyter-widgets/base",
            "_model_module_version": "1.2.0",
            "_model_name": "LayoutModel",
            "_view_count": null,
            "_view_module": "@jupyter-widgets/base",
            "_view_module_version": "1.2.0",
            "_view_name": "LayoutView",
            "align_content": null,
            "align_items": null,
            "align_self": null,
            "border": null,
            "bottom": null,
            "display": null,
            "flex": null,
            "flex_flow": null,
            "grid_area": null,
            "grid_auto_columns": null,
            "grid_auto_flow": null,
            "grid_auto_rows": null,
            "grid_column": null,
            "grid_gap": null,
            "grid_row": null,
            "grid_template_areas": null,
            "grid_template_columns": null,
            "grid_template_rows": null,
            "height": null,
            "justify_content": null,
            "justify_items": null,
            "left": null,
            "margin": null,
            "max_height": null,
            "max_width": null,
            "min_height": null,
            "min_width": null,
            "object_fit": null,
            "object_position": null,
            "order": null,
            "overflow": null,
            "overflow_x": null,
            "overflow_y": null,
            "padding": null,
            "right": null,
            "top": null,
            "visibility": null,
            "width": null
          }
        },
        "22dd72f50472422e97bea7c657177304": {
          "model_module": "@jupyter-widgets/base",
          "model_module_version": "1.2.0",
          "model_name": "LayoutModel",
          "state": {
            "_model_module": "@jupyter-widgets/base",
            "_model_module_version": "1.2.0",
            "_model_name": "LayoutModel",
            "_view_count": null,
            "_view_module": "@jupyter-widgets/base",
            "_view_module_version": "1.2.0",
            "_view_name": "LayoutView",
            "align_content": null,
            "align_items": null,
            "align_self": null,
            "border": null,
            "bottom": null,
            "display": null,
            "flex": null,
            "flex_flow": null,
            "grid_area": null,
            "grid_auto_columns": null,
            "grid_auto_flow": null,
            "grid_auto_rows": null,
            "grid_column": null,
            "grid_gap": null,
            "grid_row": null,
            "grid_template_areas": null,
            "grid_template_columns": null,
            "grid_template_rows": null,
            "height": null,
            "justify_content": null,
            "justify_items": null,
            "left": null,
            "margin": null,
            "max_height": null,
            "max_width": null,
            "min_height": null,
            "min_width": null,
            "object_fit": null,
            "object_position": null,
            "order": null,
            "overflow": null,
            "overflow_x": null,
            "overflow_y": null,
            "padding": null,
            "right": null,
            "top": null,
            "visibility": null,
            "width": null
          }
        },
        "279f610a5cca44729afd32b12770745a": {
          "model_module": "@jupyter-widgets/base",
          "model_module_version": "1.2.0",
          "model_name": "LayoutModel",
          "state": {
            "_model_module": "@jupyter-widgets/base",
            "_model_module_version": "1.2.0",
            "_model_name": "LayoutModel",
            "_view_count": null,
            "_view_module": "@jupyter-widgets/base",
            "_view_module_version": "1.2.0",
            "_view_name": "LayoutView",
            "align_content": null,
            "align_items": null,
            "align_self": null,
            "border": null,
            "bottom": null,
            "display": null,
            "flex": null,
            "flex_flow": null,
            "grid_area": null,
            "grid_auto_columns": null,
            "grid_auto_flow": null,
            "grid_auto_rows": null,
            "grid_column": null,
            "grid_gap": null,
            "grid_row": null,
            "grid_template_areas": null,
            "grid_template_columns": null,
            "grid_template_rows": null,
            "height": null,
            "justify_content": null,
            "justify_items": null,
            "left": null,
            "margin": null,
            "max_height": null,
            "max_width": null,
            "min_height": null,
            "min_width": null,
            "object_fit": null,
            "object_position": null,
            "order": null,
            "overflow": null,
            "overflow_x": null,
            "overflow_y": null,
            "padding": null,
            "right": null,
            "top": null,
            "visibility": null,
            "width": null
          }
        },
        "5c4e3236e98948b4990099ba87503f01": {
          "model_module": "@jupyter-widgets/controls",
          "model_module_version": "1.5.0",
          "model_name": "FloatSliderModel",
          "state": {
            "_dom_classes": [],
            "_model_module": "@jupyter-widgets/controls",
            "_model_module_version": "1.5.0",
            "_model_name": "FloatSliderModel",
            "_view_count": null,
            "_view_module": "@jupyter-widgets/controls",
            "_view_module_version": "1.5.0",
            "_view_name": "FloatSliderView",
            "continuous_update": true,
            "description": "Min. angle",
            "description_tooltip": null,
            "disabled": false,
            "layout": "IPY_MODEL_22dd72f50472422e97bea7c657177304",
            "max": 89,
            "min": 0,
            "orientation": "horizontal",
            "readout": true,
            "readout_format": ".2f",
            "step": 0.1,
            "style": "IPY_MODEL_9386344bd42e455dab34629100bab7f3",
            "value": 10
          }
        },
        "675725fa239d4674835a7075d1de0e64": {
          "model_module": "@jupyter-widgets/controls",
          "model_module_version": "1.5.0",
          "model_name": "IntSliderModel",
          "state": {
            "_dom_classes": [],
            "_model_module": "@jupyter-widgets/controls",
            "_model_module_version": "1.5.0",
            "_model_name": "IntSliderModel",
            "_view_count": null,
            "_view_module": "@jupyter-widgets/controls",
            "_view_module_version": "1.5.0",
            "_view_name": "IntSliderView",
            "continuous_update": true,
            "description": "# of trials",
            "description_tooltip": null,
            "disabled": false,
            "layout": "IPY_MODEL_279f610a5cca44729afd32b12770745a",
            "max": 90,
            "min": 1,
            "orientation": "horizontal",
            "readout": true,
            "readout_format": "d",
            "step": 1,
            "style": "IPY_MODEL_6a731c584c2c4496aa555aa8a2038afe",
            "value": 10
          }
        },
        "6a731c584c2c4496aa555aa8a2038afe": {
          "model_module": "@jupyter-widgets/controls",
          "model_module_version": "1.5.0",
          "model_name": "SliderStyleModel",
          "state": {
            "_model_module": "@jupyter-widgets/controls",
            "_model_module_version": "1.5.0",
            "_model_name": "SliderStyleModel",
            "_view_count": null,
            "_view_module": "@jupyter-widgets/base",
            "_view_module_version": "1.2.0",
            "_view_name": "StyleView",
            "description_width": "",
            "handle_color": null
          }
        },
        "706df913f9954a7fa5b47d212505c598": {
          "model_module": "@jupyter-widgets/controls",
          "model_module_version": "1.5.0",
          "model_name": "FloatSliderModel",
          "state": {
            "_dom_classes": [],
            "_model_module": "@jupyter-widgets/controls",
            "_model_module_version": "1.5.0",
            "_model_name": "FloatSliderModel",
            "_view_count": null,
            "_view_module": "@jupyter-widgets/controls",
            "_view_module_version": "1.5.0",
            "_view_name": "FloatSliderView",
            "continuous_update": true,
            "description": "Gravity",
            "description_tooltip": null,
            "disabled": false,
            "layout": "IPY_MODEL_d094777c0df34cdc88aeebf806d607e9",
            "max": 25,
            "min": -25,
            "orientation": "horizontal",
            "readout": true,
            "readout_format": ".2f",
            "step": 0.01,
            "style": "IPY_MODEL_a3d93eb3602f4d71921928f6308de41a",
            "value": -9.81
          }
        },
        "7e6ac665ff74473f8248a612132a6278": {
          "model_module": "@jupyter-widgets/controls",
          "model_module_version": "1.5.0",
          "model_name": "SliderStyleModel",
          "state": {
            "_model_module": "@jupyter-widgets/controls",
            "_model_module_version": "1.5.0",
            "_model_name": "SliderStyleModel",
            "_view_count": null,
            "_view_module": "@jupyter-widgets/base",
            "_view_module_version": "1.2.0",
            "_view_name": "StyleView",
            "description_width": "",
            "handle_color": null
          }
        },
        "84ccc2acb12c4edfbb9f50f5f74390da": {
          "model_module": "@jupyter-widgets/base",
          "model_module_version": "1.2.0",
          "model_name": "LayoutModel",
          "state": {
            "_model_module": "@jupyter-widgets/base",
            "_model_module_version": "1.2.0",
            "_model_name": "LayoutModel",
            "_view_count": null,
            "_view_module": "@jupyter-widgets/base",
            "_view_module_version": "1.2.0",
            "_view_name": "LayoutView",
            "align_content": null,
            "align_items": null,
            "align_self": null,
            "border": null,
            "bottom": null,
            "display": null,
            "flex": null,
            "flex_flow": null,
            "grid_area": null,
            "grid_auto_columns": null,
            "grid_auto_flow": null,
            "grid_auto_rows": null,
            "grid_column": null,
            "grid_gap": null,
            "grid_row": null,
            "grid_template_areas": null,
            "grid_template_columns": null,
            "grid_template_rows": null,
            "height": null,
            "justify_content": null,
            "justify_items": null,
            "left": null,
            "margin": null,
            "max_height": null,
            "max_width": null,
            "min_height": null,
            "min_width": null,
            "object_fit": null,
            "object_position": null,
            "order": null,
            "overflow": null,
            "overflow_x": null,
            "overflow_y": null,
            "padding": null,
            "right": null,
            "top": null,
            "visibility": null,
            "width": null
          }
        },
        "88d8cdc54ed549248bfbc8725bc6fef0": {
          "model_module": "@jupyter-widgets/base",
          "model_module_version": "1.2.0",
          "model_name": "LayoutModel",
          "state": {
            "_model_module": "@jupyter-widgets/base",
            "_model_module_version": "1.2.0",
            "_model_name": "LayoutModel",
            "_view_count": null,
            "_view_module": "@jupyter-widgets/base",
            "_view_module_version": "1.2.0",
            "_view_name": "LayoutView",
            "align_content": null,
            "align_items": null,
            "align_self": null,
            "border": null,
            "bottom": null,
            "display": null,
            "flex": null,
            "flex_flow": null,
            "grid_area": null,
            "grid_auto_columns": null,
            "grid_auto_flow": null,
            "grid_auto_rows": null,
            "grid_column": null,
            "grid_gap": null,
            "grid_row": null,
            "grid_template_areas": null,
            "grid_template_columns": null,
            "grid_template_rows": null,
            "height": null,
            "justify_content": null,
            "justify_items": null,
            "left": null,
            "margin": null,
            "max_height": null,
            "max_width": null,
            "min_height": null,
            "min_width": null,
            "object_fit": null,
            "object_position": null,
            "order": null,
            "overflow": null,
            "overflow_x": null,
            "overflow_y": null,
            "padding": null,
            "right": null,
            "top": null,
            "visibility": null,
            "width": null
          }
        },
        "8f9c4b3766134c429782b4103e61fdd1": {
          "model_module": "@jupyter-widgets/controls",
          "model_module_version": "1.5.0",
          "model_name": "SliderStyleModel",
          "state": {
            "_model_module": "@jupyter-widgets/controls",
            "_model_module_version": "1.5.0",
            "_model_name": "SliderStyleModel",
            "_view_count": null,
            "_view_module": "@jupyter-widgets/base",
            "_view_module_version": "1.2.0",
            "_view_name": "StyleView",
            "description_width": "",
            "handle_color": null
          }
        },
        "9386344bd42e455dab34629100bab7f3": {
          "model_module": "@jupyter-widgets/controls",
          "model_module_version": "1.5.0",
          "model_name": "SliderStyleModel",
          "state": {
            "_model_module": "@jupyter-widgets/controls",
            "_model_module_version": "1.5.0",
            "_model_name": "SliderStyleModel",
            "_view_count": null,
            "_view_module": "@jupyter-widgets/base",
            "_view_module_version": "1.2.0",
            "_view_name": "StyleView",
            "description_width": "",
            "handle_color": null
          }
        },
        "9aa8a6245aad46078840550dc1ae8554": {
          "model_module": "@jupyter-widgets/controls",
          "model_module_version": "1.5.0",
          "model_name": "FloatSliderModel",
          "state": {
            "_dom_classes": [],
            "_model_module": "@jupyter-widgets/controls",
            "_model_module_version": "1.5.0",
            "_model_name": "FloatSliderModel",
            "_view_count": null,
            "_view_module": "@jupyter-widgets/controls",
            "_view_module_version": "1.5.0",
            "_view_name": "FloatSliderView",
            "continuous_update": true,
            "description": "Initial velocity",
            "description_tooltip": null,
            "disabled": false,
            "layout": "IPY_MODEL_88d8cdc54ed549248bfbc8725bc6fef0",
            "max": 100,
            "min": 0,
            "orientation": "horizontal",
            "readout": true,
            "readout_format": ".2f",
            "step": 0.1,
            "style": "IPY_MODEL_8f9c4b3766134c429782b4103e61fdd1",
            "value": 10
          }
        },
        "9c9ce38d853f4394a4e030c62330d25c": {
          "model_module": "@jupyter-widgets/controls",
          "model_module_version": "1.5.0",
          "model_name": "FloatSliderModel",
          "state": {
            "_dom_classes": [],
            "_model_module": "@jupyter-widgets/controls",
            "_model_module_version": "1.5.0",
            "_model_name": "FloatSliderModel",
            "_view_count": null,
            "_view_module": "@jupyter-widgets/controls",
            "_view_module_version": "1.5.0",
            "_view_name": "FloatSliderView",
            "continuous_update": true,
            "description": "Initial height",
            "description_tooltip": null,
            "disabled": false,
            "layout": "IPY_MODEL_84ccc2acb12c4edfbb9f50f5f74390da",
            "max": 1000,
            "min": 0,
            "orientation": "horizontal",
            "readout": true,
            "readout_format": ".2f",
            "step": 1,
            "style": "IPY_MODEL_9daea74dd58f41d594976a742197e7da",
            "value": 0
          }
        },
        "9daea74dd58f41d594976a742197e7da": {
          "model_module": "@jupyter-widgets/controls",
          "model_module_version": "1.5.0",
          "model_name": "SliderStyleModel",
          "state": {
            "_model_module": "@jupyter-widgets/controls",
            "_model_module_version": "1.5.0",
            "_model_name": "SliderStyleModel",
            "_view_count": null,
            "_view_module": "@jupyter-widgets/base",
            "_view_module_version": "1.2.0",
            "_view_name": "StyleView",
            "description_width": "",
            "handle_color": null
          }
        },
        "a3d93eb3602f4d71921928f6308de41a": {
          "model_module": "@jupyter-widgets/controls",
          "model_module_version": "1.5.0",
          "model_name": "SliderStyleModel",
          "state": {
            "_model_module": "@jupyter-widgets/controls",
            "_model_module_version": "1.5.0",
            "_model_name": "SliderStyleModel",
            "_view_count": null,
            "_view_module": "@jupyter-widgets/base",
            "_view_module_version": "1.2.0",
            "_view_name": "StyleView",
            "description_width": "",
            "handle_color": null
          }
        },
        "c37654c7ac65417d92dd45a56cafb03a": {
          "model_module": "@jupyter-widgets/base",
          "model_module_version": "1.2.0",
          "model_name": "LayoutModel",
          "state": {
            "_model_module": "@jupyter-widgets/base",
            "_model_module_version": "1.2.0",
            "_model_name": "LayoutModel",
            "_view_count": null,
            "_view_module": "@jupyter-widgets/base",
            "_view_module_version": "1.2.0",
            "_view_name": "LayoutView",
            "align_content": null,
            "align_items": null,
            "align_self": null,
            "border": null,
            "bottom": null,
            "display": null,
            "flex": null,
            "flex_flow": null,
            "grid_area": null,
            "grid_auto_columns": null,
            "grid_auto_flow": null,
            "grid_auto_rows": null,
            "grid_column": null,
            "grid_gap": null,
            "grid_row": null,
            "grid_template_areas": null,
            "grid_template_columns": null,
            "grid_template_rows": null,
            "height": null,
            "justify_content": null,
            "justify_items": null,
            "left": null,
            "margin": null,
            "max_height": null,
            "max_width": null,
            "min_height": null,
            "min_width": null,
            "object_fit": null,
            "object_position": null,
            "order": null,
            "overflow": null,
            "overflow_x": null,
            "overflow_y": null,
            "padding": null,
            "right": null,
            "top": null,
            "visibility": null,
            "width": null
          }
        },
        "d05da9e84d1e48ebba53116e370e884c": {
          "model_module": "@jupyter-widgets/controls",
          "model_module_version": "1.5.0",
          "model_name": "FloatSliderModel",
          "state": {
            "_dom_classes": [],
            "_model_module": "@jupyter-widgets/controls",
            "_model_module_version": "1.5.0",
            "_model_name": "FloatSliderModel",
            "_view_count": null,
            "_view_module": "@jupyter-widgets/controls",
            "_view_module_version": "1.5.0",
            "_view_name": "FloatSliderView",
            "continuous_update": true,
            "description": "Max. angle",
            "description_tooltip": null,
            "disabled": false,
            "layout": "IPY_MODEL_c37654c7ac65417d92dd45a56cafb03a",
            "max": 90,
            "min": 1,
            "orientation": "horizontal",
            "readout": true,
            "readout_format": ".2f",
            "step": 0.1,
            "style": "IPY_MODEL_7e6ac665ff74473f8248a612132a6278",
            "value": 80
          }
        },
        "d094777c0df34cdc88aeebf806d607e9": {
          "model_module": "@jupyter-widgets/base",
          "model_module_version": "1.2.0",
          "model_name": "LayoutModel",
          "state": {
            "_model_module": "@jupyter-widgets/base",
            "_model_module_version": "1.2.0",
            "_model_name": "LayoutModel",
            "_view_count": null,
            "_view_module": "@jupyter-widgets/base",
            "_view_module_version": "1.2.0",
            "_view_name": "LayoutView",
            "align_content": null,
            "align_items": null,
            "align_self": null,
            "border": null,
            "bottom": null,
            "display": null,
            "flex": null,
            "flex_flow": null,
            "grid_area": null,
            "grid_auto_columns": null,
            "grid_auto_flow": null,
            "grid_auto_rows": null,
            "grid_column": null,
            "grid_gap": null,
            "grid_row": null,
            "grid_template_areas": null,
            "grid_template_columns": null,
            "grid_template_rows": null,
            "height": null,
            "justify_content": null,
            "justify_items": null,
            "left": null,
            "margin": null,
            "max_height": null,
            "max_width": null,
            "min_height": null,
            "min_width": null,
            "object_fit": null,
            "object_position": null,
            "order": null,
            "overflow": null,
            "overflow_x": null,
            "overflow_y": null,
            "padding": null,
            "right": null,
            "top": null,
            "visibility": null,
            "width": null
          }
        },
        "fe9f4052f85048c1ab28e24860de9636": {
          "model_module": "@jupyter-widgets/controls",
          "model_module_version": "1.5.0",
          "model_name": "SliderStyleModel",
          "state": {
            "_model_module": "@jupyter-widgets/controls",
            "_model_module_version": "1.5.0",
            "_model_name": "SliderStyleModel",
            "_view_count": null,
            "_view_module": "@jupyter-widgets/base",
            "_view_module_version": "1.2.0",
            "_view_name": "StyleView",
            "description_width": "",
            "handle_color": null
          }
        }
      }
    }
  },
  "nbformat": 4,
  "nbformat_minor": 0
}
